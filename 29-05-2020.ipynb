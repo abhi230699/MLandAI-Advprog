{
 "cells": [
  {
   "cell_type": "markdown",
   "metadata": {},
   "source": [
    "Documentation:[click here](https://tinyurl.com/python-day5)\n"
   ]
  },
  {
   "cell_type": "code",
   "execution_count": 4,
   "metadata": {},
   "outputs": [
    {
     "name": "stdout",
     "output_type": "stream",
     "text": [
      "1\n",
      "2\n",
      "3\n",
      "4\n"
     ]
    }
   ],
   "source": [
    "#Loop control statments:break,continue\n",
    "for i in range(1,11):\n",
    "    if i%5==0:\n",
    "        break\n",
    "    else:\n",
    "        print(i)"
   ]
  },
  {
   "cell_type": "code",
   "execution_count": 4,
   "metadata": {},
   "outputs": [
    {
     "name": "stdout",
     "output_type": "stream",
     "text": [
      "1\n",
      "2\n",
      "3\n",
      "4\n",
      "6\n",
      "7\n",
      "8\n",
      "9\n"
     ]
    }
   ],
   "source": [
    "#Loop control statments:break,continue\n",
    "for i in range(1,11):\n",
    "    if i%5==0:\n",
    "        continue\n",
    "    else:\n",
    "        print(i)"
   ]
  },
  {
   "cell_type": "markdown",
   "metadata": {},
   "source": [
    "### write a program to validate username and password given by the user.If the user gives wrong credentials it should ask for username and password again again until the user gives correct details.\n"
   ]
  },
  {
   "cell_type": "code",
   "execution_count": 5,
   "metadata": {},
   "outputs": [
    {
     "name": "stdout",
     "output_type": "stream",
     "text": [
      "enter your name: avi\n",
      "enter your name: python\n",
      "enter your password: abc123\n",
      "Login Success!!\n"
     ]
    }
   ],
   "source": [
    "# username : python\n",
    "# password : abc123\n",
    "while True:\n",
    "    user = input(\"enter your name: \")\n",
    "    if user == \"python\":\n",
    "        pwd = input(\"enter your password: \")\n",
    "        if pwd == \"abc123\":\n",
    "            print(\"Login Success!!\")\n",
    "            break\n",
    "    else:\n",
    "        continue"
   ]
  },
  {
   "cell_type": "code",
   "execution_count": 6,
   "metadata": {},
   "outputs": [],
   "source": [
    "#pass --> for creating empty blocks\n",
    "if 12<34:\n",
    "    pass\n",
    "else:\n",
    "    print(\"else\")"
   ]
  },
  {
   "cell_type": "markdown",
   "metadata": {},
   "source": [
    "### Function:\n",
    "block of statments\n",
    "1. predefined(which are already)\n",
    "    - len(),print(),input(),min(),max()\n",
    "2. user-defined(custom function)"
   ]
  },
  {
   "cell_type": "markdown",
   "metadata": {},
   "source": [
    "    def function_name(paramater list):\n",
    "\n",
    "    statements\n",
    "    return"
   ]
  },
  {
   "cell_type": "code",
   "execution_count": 11,
   "metadata": {},
   "outputs": [
    {
     "name": "stdout",
     "output_type": "stream",
     "text": [
      "Hello abhi\n"
     ]
    }
   ],
   "source": [
    "def name(username):#Function definition\n",
    "    print(\"Hello\",username)\n",
    "    \n",
    "name(\"abhi\")#Function calling"
   ]
  },
  {
   "cell_type": "code",
   "execution_count": 10,
   "metadata": {},
   "outputs": [
    {
     "data": {
      "text/plain": [
       "30"
      ]
     },
     "execution_count": 10,
     "metadata": {},
     "output_type": "execute_result"
    }
   ],
   "source": [
    "def add(a,b):\n",
    "    return(a+b)\n",
    "add(10,20)\n"
   ]
  },
  {
   "cell_type": "code",
   "execution_count": 12,
   "metadata": {},
   "outputs": [
    {
     "name": "stdout",
     "output_type": "stream",
     "text": [
      "(30, -10, 200, 0.5)\n",
      "(300, -100, 20000, 0.5)\n",
      "(330, -110, 24200, 0.5)\n"
     ]
    }
   ],
   "source": [
    "def addition(a,b):\n",
    "    return a+b,a-b,a*b,a/b\n",
    "\n",
    "print(addition(10,20))\n",
    "print(addition(100,200))\n",
    "print(addition(110,220))"
   ]
  },
  {
   "cell_type": "code",
   "execution_count": 13,
   "metadata": {},
   "outputs": [
    {
     "name": "stdout",
     "output_type": "stream",
     "text": [
      "200\n"
     ]
    }
   ],
   "source": [
    "#multiple return values\n",
    "def arithmetic(a,b):\n",
    "    return a+b,a-b,a*b,a/b\n",
    "\n",
    "add,sub,mul,div = arithmetic(10,20)\n",
    "print(mul)"
   ]
  },
  {
   "cell_type": "markdown",
   "metadata": {},
   "source": [
    "### Different Types of Arguments\n",
    "1. Required positional arguments\n",
    "2. Default Arguments\n",
    "3. Keyword Arguments\n",
    "4. Variable length Arguments"
   ]
  },
  {
   "cell_type": "code",
   "execution_count": 14,
   "metadata": {},
   "outputs": [
    {
     "data": {
      "text/plain": [
       "30"
      ]
     },
     "execution_count": 14,
     "metadata": {},
     "output_type": "execute_result"
    }
   ],
   "source": [
    "def add(a,b):\n",
    "    return(a+b)\n",
    "add(10,20)\n"
   ]
  },
  {
   "cell_type": "code",
   "execution_count": 16,
   "metadata": {},
   "outputs": [
    {
     "name": "stdout",
     "output_type": "stream",
     "text": [
      "200\n",
      "400\n"
     ]
    }
   ],
   "source": [
    "def add(a,b=100):\n",
    "    return(a+b)\n",
    "print(add(100))\n",
    "print(add(200,200))"
   ]
  },
  {
   "cell_type": "code",
   "execution_count": 17,
   "metadata": {},
   "outputs": [
    {
     "name": "stdout",
     "output_type": "stream",
     "text": [
      "a value: 20\n",
      "b value: 10\n"
     ]
    },
    {
     "data": {
      "text/plain": [
       "30"
      ]
     },
     "execution_count": 17,
     "metadata": {},
     "output_type": "execute_result"
    }
   ],
   "source": [
    "def add(a,b):\n",
    "    print(\"a value:\",a)\n",
    "    print(\"b value:\",b)\n",
    "    return(a+b)\n",
    "add(b=10,a=20)"
   ]
  },
  {
   "cell_type": "code",
   "execution_count": 18,
   "metadata": {},
   "outputs": [
    {
     "name": "stdout",
     "output_type": "stream",
     "text": [
      "30\n",
      "60\n",
      "100\n"
     ]
    }
   ],
   "source": [
    "#variable length argument\n",
    "#(120,230,34,450,460)--->Tuple\n",
    "def add(*a):\n",
    "    return sum(a)\n",
    "print(add(10,20))\n",
    "print(add(10,20,30))\n",
    "print(add(10,20,30,40))"
   ]
  },
  {
   "cell_type": "code",
   "execution_count": 19,
   "metadata": {},
   "outputs": [
    {
     "name": "stdout",
     "output_type": "stream",
     "text": [
      "200\n",
      "6000\n",
      "240000\n"
     ]
    }
   ],
   "source": [
    "#variable length argument\n",
    "#(120,230,34,450,460)--->Tuple\n",
    "def mul(*a):\n",
    "    m=1\n",
    "    for i in a:\n",
    "        m=m*i\n",
    "    return m\n",
    "   \n",
    "print(mul(10,20))\n",
    "print(mul(10,20,30))\n",
    "print(mul(10,20,30,40))"
   ]
  },
  {
   "cell_type": "code",
   "execution_count": 20,
   "metadata": {},
   "outputs": [
    {
     "name": "stdout",
     "output_type": "stream",
     "text": [
      "100\n",
      "1000\n"
     ]
    }
   ],
   "source": [
    "#Nested Functions: sqaure,cube\n",
    "def square(a):\n",
    "    return a*a\n",
    "def cube(x):\n",
    "    return square(x)*x\n",
    "    \n",
    "print(square(10))\n",
    "print(cube(10))"
   ]
  },
  {
   "cell_type": "markdown",
   "metadata": {},
   "source": [
    "## Recursive functions\n",
    "1. factorail of number\n",
    "2. fibanocci series"
   ]
  },
  {
   "cell_type": "markdown",
   "metadata": {},
   "source": [
    "### Data structures\n",
    "1. List:\n",
    "    - [] elements separated by\n",
    "    - mutable\n",
    "    - indexed\n",
    "    - ordered\n",
    "    - duplicate values\n",
    "    - mutable"
   ]
  },
  {
   "cell_type": "code",
   "execution_count": 21,
   "metadata": {},
   "outputs": [
    {
     "name": "stdout",
     "output_type": "stream",
     "text": [
      "<class 'list'>\n"
     ]
    }
   ],
   "source": [
    "list1 = [12,23,45,True,\"abc\",12]\n",
    "print(type(list1))"
   ]
  },
  {
   "cell_type": "code",
   "execution_count": 22,
   "metadata": {},
   "outputs": [
    {
     "name": "stdout",
     "output_type": "stream",
     "text": [
      "[1, 2, 3, 10, 20, 30]\n",
      "[1, 2, 3, 1, 2, 3, 1, 2, 3]\n",
      "2\n",
      "[2, 3]\n"
     ]
    }
   ],
   "source": [
    "# Operators on list: +,*,[],[:],in,not in\n",
    "list1 =[1,2,3]\n",
    "list2=[10,20,30]\n",
    "print(list1+list2)\n",
    "print(list1*3)\n",
    "print(list1[1])\n",
    "print(list1[1:3])"
   ]
  },
  {
   "cell_type": "code",
   "execution_count": 23,
   "metadata": {},
   "outputs": [
    {
     "name": "stdout",
     "output_type": "stream",
     "text": [
      "4\n",
      "1\n",
      "40\n",
      "['p', 'y', 't', 'h', 'o', 'n']\n"
     ]
    }
   ],
   "source": [
    "#Built-in functions: len(),min(),max(),list()\n",
    "list1 =[1,2,3,40]\n",
    "s1=\"python\"\n",
    "print(len(list1))\n",
    "print(min(list1))\n",
    "print(max(list1))\n",
    "list2=list(s1)\n",
    "print(list2)"
   ]
  },
  {
   "cell_type": "code",
   "execution_count": null,
   "metadata": {},
   "outputs": [],
   "source": []
  }
 ],
 "metadata": {
  "kernelspec": {
   "display_name": "Python 3",
   "language": "python",
   "name": "python3"
  },
  "language_info": {
   "codemirror_mode": {
    "name": "ipython",
    "version": 3
   },
   "file_extension": ".py",
   "mimetype": "text/x-python",
   "name": "python",
   "nbconvert_exporter": "python",
   "pygments_lexer": "ipython3",
   "version": "3.7.1"
  }
 },
 "nbformat": 4,
 "nbformat_minor": 2
}
