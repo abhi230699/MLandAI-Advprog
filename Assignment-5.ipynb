{
 "cells": [
  {
   "cell_type": "markdown",
   "metadata": {},
   "source": [
    "### CSE_221710302039_Abhishek Naidu"
   ]
  },
  {
   "cell_type": "code",
   "execution_count": 1,
   "metadata": {},
   "outputs": [
    {
     "name": "stdout",
     "output_type": "stream",
     "text": [
      "Walkdog&68\n",
      "you need another password yes(or)no   :yes\n",
      "playchurch>45\n",
      "you need another password yes(or)no   :yes\n",
      "runsnakes?72\n",
      "you need another password yes(or)no   :yes\n",
      "cougherror&68\n",
      "you need another password yes(or)no   :yes\n",
      "playsnakes?42\n",
      "you need another password yes(or)no   :yes\n",
      "Walksnakes^69\n",
      "you need another password yes(or)no   :no\n"
     ]
    }
   ],
   "source": [
    "import random\n",
    "list1=[\"Walk\",'cough','Laugh','play','deliver','bend','run','concern','detect']\n",
    "list2=[\"china\",\"church\",\"donkey\",\"evening\",'snakes','corona','dog','man','Table','error']\n",
    "list3=[\"/\",'?','@','$','%','^','&','<','>','?']\n",
    "while True:\n",
    "    st=random.choice(list1)+random.choice(list2)+random.choice(list3)+str(random.randint(0,90))\n",
    "    print(st)\n",
    "    s=input(\"you need another password yes(or)no   :\")\n",
    "    s=s.lower()\n",
    "    if s=='no':\n",
    "        break"
   ]
  },
  {
   "cell_type": "code",
   "execution_count": null,
   "metadata": {},
   "outputs": [],
   "source": []
  }
 ],
 "metadata": {
  "kernelspec": {
   "display_name": "Python 3",
   "language": "python",
   "name": "python3"
  },
  "language_info": {
   "codemirror_mode": {
    "name": "ipython",
    "version": 3
   },
   "file_extension": ".py",
   "mimetype": "text/x-python",
   "name": "python",
   "nbconvert_exporter": "python",
   "pygments_lexer": "ipython3",
   "version": "3.7.1"
  }
 },
 "nbformat": 4,
 "nbformat_minor": 2
}
