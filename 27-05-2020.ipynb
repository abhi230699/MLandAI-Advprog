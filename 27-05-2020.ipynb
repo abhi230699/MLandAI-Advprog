{
 "cells": [
  {
   "cell_type": "markdown",
   "metadata": {},
   "source": [
    "Headings:"
   ]
  },
  {
   "cell_type": "markdown",
   "metadata": {},
   "source": [
    "# python programming\n",
    "## python programming\n",
    "### python programming\n",
    "#### python programming\n",
    "##### python programming\n",
    "###### python programming"
   ]
  },
  {
   "cell_type": "markdown",
   "metadata": {},
   "source": [
    "### List of programming languages:(Ordered list)\n",
    "1. python\n",
    "2. java\n",
    "3. c\n",
    "4. c++\n",
    "5. .NET"
   ]
  },
  {
   "cell_type": "markdown",
   "metadata": {},
   "source": [
    "### List of programming languages:(unordered list)\n",
    "- python\n",
    "    - core python\n",
    "    - Adv python\n",
    "- java\n",
    "- c\n",
    "- c++\n",
    "- .NET"
   ]
  },
  {
   "cell_type": "markdown",
   "metadata": {},
   "source": [
    "- **Python Programming**\n",
    "- *Python programming*"
   ]
  },
  {
   "cell_type": "markdown",
   "metadata": {},
   "source": [
    "[click here for Documentation](https://tinyurl.com/introduction-to-python)"
   ]
  },
  {
   "cell_type": "markdown",
   "metadata": {},
   "source": [
    "![image](https://images.unsplash.com/photo-1448317971280-6c74e016e49c?ixlib=rb-1.2.1&ixid=eyJhcHBfaWQiOjEyMDd9&auto=format&fit=crop&w=500&q=60)"
   ]
  },
  {
   "cell_type": "markdown",
   "metadata": {},
   "source": [
    "![image](https://images-eu.ssl-images-amazon.com/images/I/61AR%2BobfHgL._SY300_QL70_ML2_.jpg)"
   ]
  },
  {
   "cell_type": "markdown",
   "metadata": {},
   "source": [
    "<img src=\"data:image/jpeg;base64,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\" width=200 height=200 >"
   ]
  },
  {
   "cell_type": "markdown",
   "metadata": {},
   "source": [
    "Introduction to python\n",
    "1. Different paradigms\n",
    "2. Interpreted PL\n",
    "3. open source\n",
    "4. object oriented PL\n",
    "5. Dynamic Language\n",
    "\n",
    "### Guido Van Rossum"
   ]
  },
  {
   "cell_type": "markdown",
   "metadata": {},
   "source": [
    "### Numeric Data types:\n",
    "1. int \n",
    "2. float\n",
    "3. complex"
   ]
  },
  {
   "cell_type": "code",
   "execution_count": 4,
   "metadata": {},
   "outputs": [
    {
     "name": "stdout",
     "output_type": "stream",
     "text": [
      "<class 'int'> <class 'float'> <class 'complex'>\n"
     ]
    }
   ],
   "source": [
    "a = 10 #integer\n",
    "b = 23.34 #float\n",
    "c = 12+3j #complex number \n",
    "\n",
    "print(type(a),type(b),type(c))"
   ]
  },
  {
   "cell_type": "code",
   "execution_count": 9,
   "metadata": {},
   "outputs": [
    {
     "name": "stdout",
     "output_type": "stream",
     "text": [
      "(10+13j)\n",
      "6.0\n",
      "8.0\n"
     ]
    }
   ],
   "source": [
    "c1 = 4+5j\n",
    "c2 = complex(6,8)\n",
    "print(c1+c2)\n",
    "print(c2.real) #real part\n",
    "print(c2.imag) #imaginary part"
   ]
  },
  {
   "cell_type": "code",
   "execution_count": null,
   "metadata": {},
   "outputs": [
    {
     "name": "stdout",
     "output_type": "stream",
     "text": [
      "Enter the value of a10\n",
      "Enter the value of b10\n",
      "20 0 100 1.0\n"
     ]
    }
   ],
   "source": [
    "#input and output functions\n",
    "#input --> input()\n",
    "#output --> print()\n",
    "a = int(input(\"Enter the value of a\"))\n",
    "b = int(input(\"Enter the value of b\"))\n",
    "print(a+b,end=\" \")\n",
    "print(a-b,a*b,a/b)"
   ]
  },
  {
   "cell_type": "markdown",
   "metadata": {},
   "source": [
    "# Operators : symbol which performs some specific task\n",
    "# Operands : values given to operator are known as operands"
   ]
  },
  {
   "cell_type": "code",
   "execution_count": 2,
   "metadata": {},
   "outputs": [
    {
     "name": "stdout",
     "output_type": "stream",
     "text": [
      "enter the value of a:10\n",
      "enter the value of b:10\n",
      "20\n",
      "0\n",
      "100\n",
      "1.0\n",
      "0\n",
      "10000000000\n"
     ]
    }
   ],
   "source": [
    "a = int(input(\"enter the value of a:\"))\n",
    "b = int(input(\"enter the value of b:\"))\n",
    "print(a+b)\n",
    "print(a-b)\n",
    "print(a*b)\n",
    "print(a/b)\n",
    "print(a%b)\n",
    "print(a**b)"
   ]
  },
  {
   "cell_type": "code",
   "execution_count": 8,
   "metadata": {},
   "outputs": [
    {
     "name": "stdout",
     "output_type": "stream",
     "text": [
      "enter a value10\n",
      "enter b value10\n",
      "20\n",
      "0\n",
      "100\n",
      "1.0\n",
      "0\n",
      "1\n",
      "10000000000\n"
     ]
    }
   ],
   "source": [
    "#Arithmetic operators:+,-,*,/,%,//(floor division),**(exponent)Example:\n",
    "\n",
    "a = int(input(\"enter a value\"))\n",
    "b = int(input(\"enter b value\"))\n",
    "print(a + b)\n",
    "print(a - b)\n",
    "print(a * b)\n",
    "print(a / b)#float quotient\n",
    "print(a % b)#Remainder\n",
    "print(a // b)#int quotient\n",
    "print(a ** b)# 2 5\n"
   ]
  },
  {
   "cell_type": "code",
   "execution_count": 9,
   "metadata": {},
   "outputs": [
    {
     "name": "stdout",
     "output_type": "stream",
     "text": [
      "False\n",
      "True\n",
      "True\n"
     ]
    }
   ],
   "source": [
    "#Logical operators: and,or,not -->return type - Boolean\n",
    "#print(help(\"keywords\")\n",
    "print(a < b and a>1)\n",
    "print(a <b or a>1)\n",
    "print(not a<b)"
   ]
  },
  {
   "cell_type": "code",
   "execution_count": 10,
   "metadata": {},
   "outputs": [
    {
     "name": "stdout",
     "output_type": "stream",
     "text": [
      "True\n",
      "False\n",
      "False\n",
      "True\n"
     ]
    }
   ],
   "source": [
    "#Membership operators : in,not,in\n",
    "list1 = [12,23,34,45,56,67]\n",
    "print(12 in list1)\n",
    "print(120 in list1)\n",
    "print(12 not in list1)\n",
    "print(120 not in list1)"
   ]
  },
  {
   "cell_type": "code",
   "execution_count": 12,
   "metadata": {},
   "outputs": [
    {
     "name": "stdout",
     "output_type": "stream",
     "text": [
      "a or equals to b\n"
     ]
    }
   ],
   "source": [
    "#Conditional statments:if,else,elif\n",
    "if a < b:\n",
    "    print (\"a is less than b\")\n",
    "elif a > b:\n",
    "    print(\"a is greater or equals to b\")\n",
    "else:\n",
    "    print(\"a or equals to b\")"
   ]
  },
  {
   "cell_type": "code",
   "execution_count": 14,
   "metadata": {},
   "outputs": [
    {
     "name": "stdout",
     "output_type": "stream",
     "text": [
      "a or equals to b\n"
     ]
    }
   ],
   "source": [
    "#Conditional statements:if,else,elif\n",
    "if a < b:\n",
    "    print(\"a is less than b\")\n",
    "elif a > b:\n",
    "    print(\"a is greater than b\")\n",
    "else:\n",
    "    print(\"a or equals to b\")\n"
   ]
  },
  {
   "cell_type": "code",
   "execution_count": 15,
   "metadata": {},
   "outputs": [
    {
     "name": "stdout",
     "output_type": "stream",
     "text": [
      "enter a value10\n",
      "enter b value10\n",
      "enter c value10\n",
      "largest number is c: 10\n"
     ]
    }
   ],
   "source": [
    "#Question : Find the largest of three numbers \n",
    "a = int(input(\"enter a value\"))\n",
    "b = int(input(\"enter b value\"))\n",
    "c = int(input(\"enter c value\"))\n",
    "if a>b and a>c:\n",
    "    print(\"largest number is a:\",a)\n",
    "elif b>c:\n",
    "    print(\"largest number is b:\",b)\n",
    "else:\n",
    "    print(\"largest number is c:\",c)\n"
   ]
  },
  {
   "cell_type": "code",
   "execution_count": 16,
   "metadata": {},
   "outputs": [
    {
     "name": "stdout",
     "output_type": "stream",
     "text": [
      "enter n value10\n",
      "1 2 3 4 5 6 7 8 9 10 "
     ]
    }
   ],
   "source": [
    "#Loops : while,for\n",
    "# print 1 to n values\n",
    "n = int(input(\"enter n value\"))\n",
    "i = 1\n",
    "while i<=n:\n",
    "    print(i,end=\" \")\n",
    "    i+=1#i=i+1"
   ]
  },
  {
   "cell_type": "code",
   "execution_count": null,
   "metadata": {},
   "outputs": [],
   "source": []
  }
 ],
 "metadata": {
  "kernelspec": {
   "display_name": "Python 3",
   "language": "python",
   "name": "python3"
  },
  "language_info": {
   "codemirror_mode": {
    "name": "ipython",
    "version": 3
   },
   "file_extension": ".py",
   "mimetype": "text/x-python",
   "name": "python",
   "nbconvert_exporter": "python",
   "pygments_lexer": "ipython3",
   "version": "3.7.1"
  }
 },
 "nbformat": 4,
 "nbformat_minor": 2
}
